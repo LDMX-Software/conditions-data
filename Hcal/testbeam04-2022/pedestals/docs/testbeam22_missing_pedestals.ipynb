{
 "cells": [
  {
   "cell_type": "markdown",
   "metadata": {},
   "source": [
    "# Testbeam - Checking for Missing HCAL Detectors\n",
    "<b>Author:</b> Cooper Froemming\n",
    "<br><b>Date:</b> May 24th, 2022\n",
    "<br><b>Description:</b> This document aims to determine what which detectors are missing from the pedestal calibration files used in the CERN CMS Testbeam on April, 2022"
   ]
  },
  {
   "cell_type": "markdown",
   "metadata": {},
   "source": [
    "## Imports / Initializations:"
   ]
  },
  {
   "cell_type": "markdown",
   "metadata": {},
   "source": [
    "This program primarily utilizes <a href='https://pandas.pydata.org/docs/'>pandas</a> databases and some <a href='https://numpy.org/doc/'>numpy</a> functions for data manipulation and processing, and <a href='https://matplotlib.org/'>matplotlib</a> for graphing. It is assumed that the pedestal files are in this directory, but you can alter that by changing the folderPath variable."
   ]
  },
  {
   "cell_type": "code",
   "execution_count": 12,
   "metadata": {},
   "outputs": [],
   "source": [
    "import numpy as np\n",
    "import pandas as pd\n",
    "import matplotlib.pyplot as plt"
   ]
  },
  {
   "cell_type": "code",
   "execution_count": 13,
   "metadata": {},
   "outputs": [],
   "source": [
    "# Keeps track of file information\n",
    "class File: \n",
    "    def __init__(self, path, name, treePath):\n",
    "        self.path = path\n",
    "        self.name = name\n",
    "        if treePath == 'default' :\n",
    "            self.treePath = ':ntuplizehgcroc/hgcroc'\n",
    "        else :\n",
    "            self.treePath = treePath\n",
    "    def setTreePath(localTPath):\n",
    "        treePath = localTPath"
   ]
  },
  {
   "cell_type": "code",
   "execution_count": 14,
   "metadata": {},
   "outputs": [],
   "source": [
    "folderPath = '../v0_1_0/' # Directory where the pedestal fils are stored\n",
    "\n",
    "#All of the different pedestal files for the April 2022 Testbeam.\n",
    "ped0415 = File(folderPath,'pedestals_20220415.csv','default')\n",
    "ped0416 = File(folderPath,'pedestals_20220416.csv','default')\n",
    "ped0417 = File(folderPath,'pedestals_20220417.csv','default')\n",
    "ped0419 = File(folderPath,'pedestals_20220419.csv','default')\n",
    "ped0421 = File(folderPath,'pedestals_20220421.csv','default')\n",
    "ped0422 = File(folderPath,'pedestals_20220422.csv','default')\n",
    "ped0423 = File(folderPath,'pedestals_20220423.csv','default')\n",
    "ped0424_07 = File(folderPath,'pedestals_20220424_07.csv','default')\n",
    "ped0424_22 = File(folderPath,'pedestals_20220424_22.csv','default')\n",
    "ped0426 = File(folderPath,'pedestals_20220426.csv','default')\n",
    "\n",
    "fileArray = [ped0415, ped0416, ped0417, ped0419, ped0421, ped0422, ped0423, ped0424_07, ped0424_22, ped0426]\n",
    "fileNameArray = [ped0415.name, ped0416.name, ped0417.name, ped0419.name, ped0421.name, \n",
    "ped0422.name, ped0423.name, ped0424_07.name, ped0424_22.name, ped0426.name]"
   ]
  },
  {
   "cell_type": "markdown",
   "metadata": {},
   "source": [
    "pedestals_20220426.csv is used as the reference file for all of the channels, to which a channel-based index is created."
   ]
  },
  {
   "cell_type": "code",
   "execution_count": 15,
   "metadata": {},
   "outputs": [],
   "source": [
    "master = pd.read_csv(f'{ped0426.path}{ped0426.name}',comment='#',index_col=0)\n",
    "detID_index = pd.Index(master.index)"
   ]
  },
  {
   "cell_type": "markdown",
   "metadata": {},
   "source": [
    "## Checking for Missing Channels:\n",
    "This section is responsible for all of the heavy lifting data processing. It works by running through the file array (above), reindexing files based off of 'detID_index', then filling in \"reasonable values\" based off of the average fractional difference from other files. It then outputs these files as pedestals_202204XX_full.csv. I had to replace the comments that include dates manually.\n",
    "<br><br>\n",
    "Use the boolean variables below to control output. Default is False, so that you don't accidentally generate like 40 files. You do need to generate files in order to graph the data."
   ]
  },
  {
   "cell_type": "code",
   "execution_count": 16,
   "metadata": {},
   "outputs": [],
   "source": [
    "generate_full_file = False\n",
    "# Set to True if you want to generate files in this directory. Note: required for data processing.\n",
    "generate_graphs = False\n",
    "# Set to True if you want to generate the visual graphs (~1 minute to make)"
   ]
  },
  {
   "cell_type": "code",
   "execution_count": 17,
   "metadata": {},
   "outputs": [],
   "source": [
    "#      Functions\n",
    "# ===================\n",
    "\n",
    "# Adds _full to a the name of a .csv file. Returns a string.\n",
    "def addNewPedestalName(name):\n",
    "        full_ped_name = str(name)\n",
    "        full_ped_name = full_ped_name.split('.')\n",
    "        full_ped_name = str(full_ped_name[0])\n",
    "        return full_ped_name+'_full.csv'\n",
    "\n",
    "# From a .csv file, returns a dataframe with NaN filled in for missing channels.\n",
    "def completePedestalFile(pedestal):\n",
    "    output = pd.read_csv(f'{pedestal.path}{pedestal.name}',comment='#',\n",
    "    index_col=0,names=['PEDESTAL_ADC','PEDESTAL_RMS_ADC'],skiprows=3)\n",
    "    #print('Checking ',pedestal.name,'...',sep='')\n",
    "    if output.size % 384 != 0:\n",
    "        output = output.reindex(detID_index)\n",
    "    return output\n",
    "\n",
    "#Finds the average value of a pedestal, ignoring PEDESTAL_RMS_ADC values over 10\n",
    "#Returns a tuple in the form [PEDESTAL_ADC_MEAN, PEDESTAL_RMS_ADC_MEAN]\n",
    "def findMean(file):\n",
    "    if isinstance(file,File):\n",
    "        df = pd.read_csv(f'{file.path}{file.name}',comment='#',index_col=0)\n",
    "    else:\n",
    "        df = file\n",
    "    mask = df.loc[:,'PEDESTAL_RMS_ADC']\n",
    "    mask = mask.where(mask < 10)\n",
    "    df = pd.concat([df['PEDESTAL_ADC'],mask],axis=1)\n",
    "    return [df['PEDESTAL_ADC'].mean(),df['PEDESTAL_RMS_ADC'].mean()]\n",
    "\n",
    "# Finds difference as a fraction of \"first\" and \"second\" files for every value. Outputs NaN if either are missing a value.\n",
    "# Returns a 2 element array with PEDESTAL_ADC and PEDESTAL_RMS_ADC differences respectively.\n",
    "def findFracDiff(first,second):\n",
    "    file1 = pd.read_csv(f'{first.path}{first.name}',comment='#',index_col=0)\n",
    "    file2 = pd.read_csv(f'{second.path}{second.name}',comment='#',index_col=0)\n",
    "    ADCDiff =1 - (file1['PEDESTAL_ADC'] - file2['PEDESTAL_ADC']) / file1['PEDESTAL_ADC']\n",
    "    RMSDiff =1 - (file1['PEDESTAL_RMS_ADC'] - file2['PEDESTAL_RMS_ADC']) / file1['PEDESTAL_RMS_ADC']\n",
    "    output = pd.concat([ADCDiff,RMSDiff],axis=1)\n",
    "    return output\n",
    "    \n",
    "#       Description: Takes an array of pedestals, and fills in missing channels based of a scaled constant\n",
    "# that is generated from the average percent difference between two pedestal files. The files give priority\n",
    "# to checking the 1st file across the rest of the files in the array, and compares the 2nd file to the\n",
    "# first file, repeating for the 3rd, 4th, etc.\n",
    "#       Input: Array of pedestals of the File objects.\n",
    "#       Output: 2D Array of the format [filename][DataFrame].\n",
    "def replaceData(pedArray):\n",
    "    print('Replacing Data...')\n",
    "    output = []\n",
    "    for file1 in pedArray:\n",
    "        if file1 == pedArray[0]:\n",
    "            print('File:',file1.name,)\n",
    "            file1_df = pd.read_csv(f'{file1.path}{file1.name}',comment='#',index_col=0)\n",
    "            for i in range(1,len(pedArray)):\n",
    "                file2 = pedArray[i]\n",
    "                file2_df = pd.read_csv(f'{pedArray[i].path}{pedArray[i].name}',comment='#',index_col=0)\n",
    "                print('   Using...',file2.name,'...')\n",
    "                diff = findMean(findFracDiff(file1,file2))\n",
    "                result = file1_df.mask((file1_df.isna()) & ((file1_df.isna()) ^ (file2_df.isna())),file2_df.mul(diff,axis=1))\n",
    "        else:\n",
    "            print('File:',file1.name)\n",
    "            file1_df = pd.read_csv(f'{file1.path}{file1.name}',comment='#',index_col=0)\n",
    "            file2 = pedArray[0]\n",
    "            file2_df = output[0][1]\n",
    "            print('   Using...',file2.name,'...')\n",
    "            diff = findMean(findFracDiff(file1,file2))\n",
    "            result = file1_df.mask((file1_df.isna()) & ((file1_df.isna()) ^ (file2_df.isna())),file2_df.mul(diff,axis=1))\n",
    "        output.append([file1.name,result])\n",
    "    print('Done!')\n",
    "    print()\n",
    "    return output\n"
   ]
  },
  {
   "cell_type": "code",
   "execution_count": 18,
   "metadata": {},
   "outputs": [],
   "source": [
    "missingDet = pd.DataFrame(index=detID_index, columns=['PEDESTAL_ADC','PEDESTAL_RMS_ADC'])\n",
    "missingDet = ~missingDet.isna()\n",
    "missingHist = pd.DataFrame(index=detID_index, columns=['PEDESTAL_ADC','PEDESTAL_RMS_ADC'],dtype=np.int64)\n",
    "missingHist[:] = 0\n",
    "missingPlt = pd.DataFrame(index=detID_index,dtype=np.int64)\n",
    "missingPlt[:] = 0\n",
    "fullPedestal = pd.DataFrame(index=detID_index, columns=['PEDESTAL_ADC','PEDESTAL_RMS_ADC'])\n",
    "\n",
    "# Note: Skipping ped0422 because it does not follow the same naming conventions in the csv file as the others\n",
    "# Note: Should also skip ped0416, as the first half is identical to ped0415\n",
    "# Groupings for similar files: 15, 16, 17; 19 and 21; 23 and 24_07.\n",
    "count = 0\n",
    "for x in fileArray:\n",
    "    if (count > 5) | (count < 5):\n",
    "        currentFile = completePedestalFile(x)\n",
    "        fullPedestal = currentFile\n",
    "        newName = addNewPedestalName(x.name)\n",
    "        if generate_full_file == True:\n",
    "            fullPedestal.to_csv(path_or_buf=f'./{newName}',index_label='DetID',)\n",
    "        currentFile = currentFile.isna()\n",
    "        toAdd = currentFile['PEDESTAL_ADC']*1\n",
    "        toAdd = toAdd.rename(x.name)\n",
    "        toAdd.squeeze()\n",
    "        missingHist = missingHist.add(currentFile['PEDESTAL_ADC']*1,axis=0)\n",
    "        missingPlt = missingPlt.join(toAdd,how='left')\n",
    "        missingDet = (missingDet | currentFile)\n",
    "\n",
    "    count = count + 1"
   ]
  },
  {
   "cell_type": "code",
   "execution_count": 19,
   "metadata": {},
   "outputs": [],
   "source": [
    "#full files File object references\n",
    "ped0415_f = File(folderPath,'pedestals_20220415_full.csv','default')\n",
    "ped0416_f = File(folderPath,'pedestals_20220416_full.csv','default')\n",
    "ped0417_f = File(folderPath,'pedestals_20220417_full.csv','default')\n",
    "ped0419_f = File(folderPath,'pedestals_20220419_full.csv','default')\n",
    "ped0421_f = File(folderPath,'pedestals_20220421_full.csv','default')\n",
    "ped0422_f = File(folderPath,'pedestals_20220422_full.csv','default')\n",
    "ped0423_f = File(folderPath,'pedestals_20220423_full.csv','default')\n",
    "ped0424_07_f = File(folderPath,'pedestals_20220424_07_full.csv','default')\n",
    "ped0424_22_f = File(folderPath,'pedestals_20220424_22_full.csv','default')\n",
    "ped0426_f = File(folderPath,'pedestals_20220426_full.csv','default')"
   ]
  },
  {
   "cell_type": "code",
   "execution_count": 20,
   "metadata": {},
   "outputs": [],
   "source": [
    "# Replaces prior \"_full\" pedestals with ones that have reconstructed channels.\n",
    "if (generate_full_file):\n",
    "    sect1 = replaceData([ped0415_f,ped0417_f,ped0426_f])\n",
    "    sect2 = replaceData([ped0419_f,ped0421_f,ped0426_f])\n",
    "    sect3 = replaceData([ped0423_f,ped0424_07_f,ped0426_f])\n",
    "    allPeds = [sect1[0],sect1[1],sect2[0],sect2[1],sect3[0],sect3[1],sect3[2]]\n",
    "    for ped in range(0,len(allPeds)):\n",
    "        allPeds[ped][1].to_csv(path_or_buf=f'./{allPeds[ped][0]}',float_format='%.3f')\n"
   ]
  },
  {
   "cell_type": "markdown",
   "metadata": {},
   "source": [
    "### Visual Representation of Missing Channels\n",
    "Currently, this section generates two graphs: one to show the change in pedestal files turning on/off over time, and the other as a histogram for the number of times a given pedestal is missing."
   ]
  },
  {
   "cell_type": "code",
   "execution_count": 21,
   "metadata": {},
   "outputs": [],
   "source": [
    "# Channels turning on and off over time.\n",
    "if (generate_graphs):\n",
    "    plt.style.use('ggplot')\n",
    "    fig1,plot1 = plt.subplots()\n",
    "    X = missingPlt.columns\n",
    "    Y = missingPlt.iloc[0]\n",
    "\n",
    "    for det in missingPlt.index:\n",
    "        Y = missingPlt.loc[det]\n",
    "        plot1.plot(X,Y,label=det,linestyle='-.',linewidth=0.25)\n",
    "    for tick in plot1.get_xticklabels():\n",
    "        tick.set_rotation(90)\n",
    "    fig1.align_labels()"
   ]
  },
  {
   "cell_type": "code",
   "execution_count": 22,
   "metadata": {},
   "outputs": [],
   "source": [
    "#histogram of missing files\n",
    "if (generate_graphs):\n",
    "    missingDet[(missingDet['PEDESTAL_ADC'] == True)]\n",
    "    output = missingHist[(missingHist['PEDESTAL_ADC'] != 0)]\n",
    "    \n",
    "    fig = plt.figure()\n",
    "    HB = fig.add_axes([0,0,1,1])\n",
    "    HB.bar(x=output.index,height=output['PEDESTAL_ADC'],tick_label='')\n",
    "    HB.set_title('Missing Channels by Frequency')\n",
    "    HB.set_ylabel('Occurances')\n",
    "    HB.set_xlabel('Channel')\n",
    "    numCh = missingDet[(missingDet['PEDESTAL_ADC'] == True)].shape\n",
    "    HB.annotate(f'{numCh[0]} unique missing channels',(0,7))\n",
    "    plt.show()\n"
   ]
  },
  {
   "cell_type": "markdown",
   "metadata": {},
   "source": [
    "### Garbage Can:\n",
    "This is for personal reference of some commands that I found useful, but is not currently used. These probably aren't useful to you."
   ]
  },
  {
   "cell_type": "code",
   "execution_count": 23,
   "metadata": {},
   "outputs": [],
   "source": [
    "# Renaming Column Labels\n",
    "# data = initialFile.reindex(detID_index)\n",
    "# data = data.rename(columns={'PEDESTAL_ADC':'ADC','PEDESTAL_RMS_ADC':'RMS'})\n",
    "# newData = newFile.reindex(detID_index)\n",
    "# newData = newData.rename(columns={'PEDESTAL_ADC':'ADC','PEDESTAL_RMS_ADC':'RMS'})\n",
    "\n",
    "\n",
    "# Boolean testing\n",
    "# data1 = data.isna()\n",
    "# data2 = newData.isna()\n",
    "# data3 = (data1 | data2)\n",
    "# dataLast = newData.loc[(data3.ADC == True)]\n",
    "# dataLast.shape\n",
    "# data1.loc['0x18881107']\n",
    "# data2.loc['0x18881107']\n",
    "\n",
    "\n",
    "# Number of channels test\n",
    "# test = newData.iloc[380,1]\n",
    "# count = 0\n",
    "#\n",
    "# for x in range(0,384):\n",
    "#     val = newData.iloc[x,0]\n",
    "#     if np.isnan(val):\n",
    "#         count = count + 1\n",
    "# print('Number of Missing Channels:',count)"
   ]
  }
 ],
 "metadata": {
  "interpreter": {
   "hash": "916dbcbb3f70747c44a77c7bcd40155683ae19c65e1c03b4aa3499c5328201f1"
  },
  "kernelspec": {
   "display_name": "Python 3 (ipykernel)",
   "language": "python",
   "name": "python3"
  },
  "language_info": {
   "codemirror_mode": {
    "name": "ipython",
    "version": 3
   },
   "file_extension": ".py",
   "mimetype": "text/x-python",
   "name": "python",
   "nbconvert_exporter": "python",
   "pygments_lexer": "ipython3",
   "version": "3.8.10"
  }
 },
 "nbformat": 4,
 "nbformat_minor": 4
}
