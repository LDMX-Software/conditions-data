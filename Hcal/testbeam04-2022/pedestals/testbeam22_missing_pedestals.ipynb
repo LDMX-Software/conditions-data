{
 "cells": [
  {
   "cell_type": "markdown",
   "metadata": {},
   "source": [
    "# Testbeam - Checking for Missing HCAL Detectors\n",
    "<b>Author:</b> Cooper Froemming\n",
    "<br><b>Date:</b> May 19th, 2022\n",
    "<br><b>Description:</b> This document aims to determine what which detectors are missing from the pedestal calibration files used in the CERN CMS Testbeam on April, 2022"
   ]
  },
  {
   "cell_type": "markdown",
   "metadata": {},
   "source": [
    "## Imports / Initializations:"
   ]
  },
  {
   "cell_type": "code",
   "execution_count": 146,
   "metadata": {},
   "outputs": [],
   "source": [
    "import numpy as np\n",
    "import pandas as pd\n",
    "import matplotlib.pyplot as plt"
   ]
  },
  {
   "cell_type": "code",
   "execution_count": 147,
   "metadata": {},
   "outputs": [],
   "source": [
    "# Keeps track of file information\n",
    "class File: \n",
    "    def __init__(self, path, name, treePath):\n",
    "        self.path = path\n",
    "        self.name = name\n",
    "        if treePath == 'default' :\n",
    "            self.treePath = ':ntuplizehgcroc/hgcroc'\n",
    "        else :\n",
    "            self.treePath = treePath\n",
    "    def setTreePath(localTPath):\n",
    "        treePath = localTPath"
   ]
  },
  {
   "cell_type": "code",
   "execution_count": 148,
   "metadata": {},
   "outputs": [],
   "source": [
    "folderPath = '/home/cfroemming/ldmx/sandbox/jeremyPed/'\n",
    "\n",
    "#All of the different pedestal files.\n",
    "ped0415 = File(folderPath,'pedestals_20220415.csv','default')\n",
    "ped0416 = File(folderPath,'pedestals_20220416.csv','default')\n",
    "ped0417 = File(folderPath,'pedestals_20220417.csv','default')\n",
    "ped0419 = File(folderPath,'pedestals_20220419.csv','default')\n",
    "ped0421 = File(folderPath,'pedestals_20220421.csv','default')\n",
    "ped0422 = File(folderPath,'pedestals_20220422.csv','default')\n",
    "ped0423 = File(folderPath,'pedestals_20220423.csv','default')\n",
    "ped0424_07 = File(folderPath,'pedestals_20220424_07.csv','default')\n",
    "ped0424_22 = File(folderPath,'pedestals_20220424_22.csv','default')\n",
    "ped0426 = File(folderPath,'pedestals_20220426.csv','default')\n",
    "fileArray = [ped0415, ped0416, ped0417, ped0419, ped0421, ped0422, ped0423, ped0424_07, ped0424_22, ped0426]"
   ]
  },
  {
   "cell_type": "code",
   "execution_count": 149,
   "metadata": {},
   "outputs": [],
   "source": [
    "master = pd.read_csv(f'{folderPath}''hcal_detids_hex.txt',names=['Master'],header=0)\n",
    "detID_index = pd.Index(master.iloc[:,0])\n",
    "\n",
    "# input_file1 = ped0415\n",
    "# file_to_open1 = f'{input_file1.path}{input_file1.name}'\n",
    "\n",
    "# initialFile = pd.read_csv(f'{file_to_open1}',comment='#',index_col=0)\n",
    "# newFile = pd.read_csv(f'{ped0423.path}{ped0423.name}',comment='#',index_col=0)"
   ]
  },
  {
   "cell_type": "code",
   "execution_count": 150,
   "metadata": {},
   "outputs": [],
   "source": [
    "# test = pd.read_csv(f'{ped0422.path}{ped0422.name}',comment='#',index_col=0)\n",
    "# test1 = test.loc[(test.duplicated() == True)]\n",
    "# master\n",
    "# test"
   ]
  },
  {
   "cell_type": "markdown",
   "metadata": {},
   "source": [
    "## Checking for Missing Channels:\n",
    "This effectively finds all of the missing channels.\n",
    "<br><br><i> FIXME: Write a better description</i>"
   ]
  },
  {
   "cell_type": "code",
   "execution_count": 151,
   "metadata": {},
   "outputs": [
    {
     "name": "stdout",
     "output_type": "stream",
     "text": [
      "Checking pedestals_20220415.csv...\n",
      "Checking pedestals_20220416.csv...\n",
      "Checking pedestals_20220417.csv...\n",
      "Checking pedestals_20220419.csv...\n",
      "Checking pedestals_20220421.csv...\n",
      "Checking pedestals_20220423.csv...\n",
      "Checking pedestals_20220424_07.csv...\n",
      "Checking pedestals_20220424_22.csv...\n",
      "Checking pedestals_20220426.csv...\n"
     ]
    }
   ],
   "source": [
    "count = 0\n",
    "missingDet = pd.DataFrame(index=detID_index, columns=['PEDESTAL_ADC','PEDESTAL_RMS_ADC'])\n",
    "missingHist = pd.DataFrame(index=detID_index, columns=['PEDESTAL_ADC','PEDESTAL_RMS_ADC'],dtype=np.int64)\n",
    "missingHist[:] = 0\n",
    "missingDet = ~missingDet.isna()\n",
    "\n",
    "\n",
    "# Note: Skipping ped0422 because it does not follow the same naming conventions in the csv file as the others\n",
    "for x in fileArray:\n",
    "    if (count > 5) | (count < 5):\n",
    "        currentFile = pd.read_csv(f'{x.path}{x.name}',comment='#',index_col=0)\n",
    "        print('Checking ',x.name,'...',sep='')\n",
    "        if currentFile.size % 384 != 0:\n",
    "            currentFile = currentFile.reindex(detID_index, copy=True)\n",
    "        currentFile = currentFile.isna()\n",
    "        missingHist = missingHist.add(currentFile*1,axis=0)\n",
    "        missingDet = (missingDet | currentFile)\n",
    "    count = count + 1"
   ]
  },
  {
   "cell_type": "markdown",
   "metadata": {},
   "source": [
    "### Visual Representation of Missing Channels\n",
    "<i>FIXME: write a description. </i>"
   ]
  },
  {
   "cell_type": "code",
   "execution_count": 152,
   "metadata": {},
   "outputs": [
    {
     "data": {
      "image/png": "[encoded data removed]",
      "text/plain": [
       "<Figure size 432x288 with 1 Axes>"
      ]
     },
     "metadata": {
      "needs_background": "light"
     },
     "output_type": "display_data"
    }
   ],
   "source": [
    "missingDet[(missingDet['PEDESTAL_ADC'] == True)]\n",
    "output = missingHist[(missingHist['PEDESTAL_ADC'] != 0)]\n",
    "\n",
    "fig = plt.figure()\n",
    "HB = fig.add_axes([0,0,1,1])\n",
    "HB.bar(x=output.index,height=output['PEDESTAL_ADC'],tick_label='')\n",
    "HB.set_title('Missing Channels by Frequency')\n",
    "HB.set_ylabel('Occurances')\n",
    "HB.set_xlabel('Channel')\n",
    "numCh = missingDet[(missingDet['PEDESTAL_ADC'] == True)].shape\n",
    "HB.annotate(f'{numCh[0]} unique missing channels',(0,7))\n",
    "plt.show()\n"
   ]
  },
  {
   "cell_type": "markdown",
   "metadata": {},
   "source": [
    "### Garbage Can:\n",
    "This is for personal reference of some commands that I found useful, but is not currently used. These probably aren't useful to you."
   ]
  },
  {
   "cell_type": "code",
   "execution_count": 153,
   "metadata": {},
   "outputs": [],
   "source": [
    "# Renaming Column Labels\n",
    "# data = initialFile.reindex(detID_index)\n",
    "# data = data.rename(columns={'PEDESTAL_ADC':'ADC','PEDESTAL_RMS_ADC':'RMS'})\n",
    "# newData = newFile.reindex(detID_index)\n",
    "# newData = newData.rename(columns={'PEDESTAL_ADC':'ADC','PEDESTAL_RMS_ADC':'RMS'})"
   ]
  },
  {
   "cell_type": "code",
   "execution_count": 154,
   "metadata": {},
   "outputs": [],
   "source": [
    "# Boolean testing\n",
    "# data1 = data.isna()\n",
    "# data2 = newData.isna()\n",
    "# data3 = (data1 | data2)\n",
    "# dataLast = newData.loc[(data3.ADC == True)]\n",
    "# dataLast.shape\n",
    "# data1.loc['0x18881107']\n",
    "# data2.loc['0x18881107']"
   ]
  },
  {
   "cell_type": "code",
   "execution_count": 155,
   "metadata": {},
   "outputs": [],
   "source": [
    "# Number of channels test\n",
    "# test = newData.iloc[380,1]\n",
    "# count = 0\n",
    "\n",
    "# for x in range(0,384):\n",
    "#     val = newData.iloc[x,0]\n",
    "#     if np.isnan(val):\n",
    "#         count = count + 1\n",
    "# print('Number of Missing Channels:',count)"
   ]
  }
 ],
 "metadata": {
  "interpreter": {
   "hash": "916dbcbb3f70747c44a77c7bcd40155683ae19c65e1c03b4aa3499c5328201f1"
  },
  "kernelspec": {
   "display_name": "Python 3.8.10 64-bit",
   "language": "python",
   "name": "python3"
  },
  "language_info": {
   "codemirror_mode": {
    "name": "ipython",
    "version": 3
   },
   "file_extension": ".py",
   "mimetype": "text/x-python",
   "name": "python",
   "nbconvert_exporter": "python",
   "pygments_lexer": "ipython3",
   "version": "3.8.10"
  },
  "orig_nbformat": 4
 },
 "nbformat": 4,
 "nbformat_minor": 2
}
