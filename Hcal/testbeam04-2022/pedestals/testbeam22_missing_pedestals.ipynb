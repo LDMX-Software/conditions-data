{
 "cells": [
  {
   "cell_type": "markdown",
   "metadata": {},
   "source": [
    "# Testbeam - Checking for Missing HCAL Detectors\n",
    "<b>Author:</b> Cooper Froemming\n",
    "<br><b>Date:</b> May 19th, 2022\n",
    "<br><b>Description:</b> This document aims to determine what which detectors are missing from the pedestal calibration files used in the CERN CMS Testbeam on April, 2022"
   ]
  },
  {
   "cell_type": "markdown",
   "metadata": {},
   "source": [
    "## Imports / Initializations:"
   ]
  },
  {
   "cell_type": "code",
   "execution_count": 26,
   "metadata": {},
   "outputs": [],
   "source": [
    "import numpy as np\n",
    "import pandas as pd\n",
    "import matplotlib.pyplot as plt"
   ]
  },
  {
   "cell_type": "code",
   "execution_count": 27,
   "metadata": {},
   "outputs": [],
   "source": [
    "# Keeps track of file information\n",
    "class File: \n",
    "    def __init__(self, path, name, treePath):\n",
    "        self.path = path\n",
    "        self.name = name\n",
    "        if treePath == 'default' :\n",
    "            self.treePath = ':ntuplizehgcroc/hgcroc'\n",
    "        else :\n",
    "            self.treePath = treePath\n",
    "    def setTreePath(localTPath):\n",
    "        treePath = localTPath"
   ]
  },
  {
   "cell_type": "code",
   "execution_count": null,
   "metadata": {},
   "outputs": [],
   "source": [
    "folderPath = './'\n",
    "\n",
    "#All of the different pedestal files.\n",
    "ped0415 = File(folderPath,'pedestals_20220415.csv','default')\n",
    "ped0416 = File(folderPath,'pedestals_20220416.csv','default')\n",
    "ped0417 = File(folderPath,'pedestals_20220417.csv','default')\n",
    "ped0419 = File(folderPath,'pedestals_20220419.csv','default')\n",
    "ped0421 = File(folderPath,'pedestals_20220421.csv','default')\n",
    "ped0422 = File(folderPath,'pedestals_20220422.csv','default')\n",
    "ped0423 = File(folderPath,'pedestals_20220423.csv','default')\n",
    "ped0424_07 = File(folderPath,'pedestals_20220424_07.csv','default')\n",
    "ped0424_22 = File(folderPath,'pedestals_20220424_22.csv','default')\n",
    "ped0426 = File(folderPath,'pedestals_20220426.csv','default')\n",
    "\n",
    "fileArray = [ped0415, ped0416, ped0417, ped0419, ped0421, ped0422, ped0423, ped0424_07, ped0424_22, ped0426]\n",
    "fileNameArray = [ped0415.name, ped0416.name, ped0417.name, ped0419.name, ped0421.name, \n",
    "ped0422.name, ped0423.name, ped0424_07.name, ped0424_22.name, ped0426.name]"
   ]
  },
  {
   "cell_type": "code",
   "execution_count": 92,
   "metadata": {},
   "outputs": [],
   "source": [
    "master = pd.read_csv(f'{ped0426.path}{ped0426.name}',comment='#',index_col=0)\n",
    "detID_index = pd.Index(master.index)"
   ]
  },
  {
   "cell_type": "markdown",
   "metadata": {},
   "source": [
    "## Checking for Missing Channels:\n",
    "This effectively finds all of the missing channels.\n",
    "<br><br><i> FIXME: Write a better description</i>"
   ]
  },
  {
   "cell_type": "code",
   "execution_count": 467,
   "metadata": {},
   "outputs": [],
   "source": [
    "#      Functions\n",
    "# ===================\n",
    "\n",
    "# Adds _full to a the name of a .csv file. Returns a string.\n",
    "def addNewPedestalName(name):\n",
    "        full_ped_name = str(name)\n",
    "        full_ped_name = full_ped_name.split('.')\n",
    "        full_ped_name = str(full_ped_name[0])\n",
    "        return full_ped_name+'_full.csv'\n",
    "\n",
    "# From a .csv file, returns a dataframe with NaN filled in for missing channels.\n",
    "def completePedestalFile(pedestal):\n",
    "    output = pd.read_csv(f'{pedestal.path}{pedestal.name}',comment='#',\n",
    "    index_col=0,names=['PEDESTAL_ADC','PEDESTAL_RMS_ADC'],skiprows=3)\n",
    "    #print('Checking ',pedestal.name,'...',sep='')\n",
    "    if output.size % 384 != 0:\n",
    "        output = output.reindex(detID_index)\n",
    "    return output\n",
    "\n",
    "def findMean(file):\n",
    "    if isinstance(file,File):\n",
    "        df = pd.read_csv(f'{file.path}{file.name}',comment='#',index_col=0)\n",
    "    else:\n",
    "        df = file\n",
    "    mask = df.loc[:,'PEDESTAL_RMS_ADC']\n",
    "    mask = mask.where(mask < 10)\n",
    "    df = pd.concat([df['PEDESTAL_ADC'],mask],axis=1)\n",
    "    return [df['PEDESTAL_ADC'].mean(),df['PEDESTAL_RMS_ADC'].mean()]\n",
    "\n",
    "# Finds difference as a fraction of \"first\" and \"second\" files for every value. Outputs NaN if either are missing a value.\n",
    "# Returns a 2 element array with PEDESTAL_ADC and PEDESTAL_RMS_ADC differences respectively.\n",
    "def findFracDiff(first,second):\n",
    "    file1 = pd.read_csv(f'{first.path}{first.name}',comment='#',index_col=0)\n",
    "    file2 = pd.read_csv(f'{second.path}{second.name}',comment='#',index_col=0)\n",
    "    ADCDiff =1 - (file1['PEDESTAL_ADC'] - file2['PEDESTAL_ADC']) / file1['PEDESTAL_ADC']\n",
    "    RMSDiff =1 - (file1['PEDESTAL_RMS_ADC'] - file2['PEDESTAL_RMS_ADC']) / file1['PEDESTAL_RMS_ADC']\n",
    "    output = pd.concat([ADCDiff,RMSDiff],axis=1)\n",
    "    return output\n",
    "    \n",
    "def replaceData(pedArray):\n",
    "    print('Replacing Data...')\n",
    "    output = []\n",
    "    for file1 in pedArray:\n",
    "        if file1 == pedArray[0]:\n",
    "            print('File:',file1.name,)\n",
    "            file1_df = pd.read_csv(f'{file1.path}{file1.name}',comment='#',index_col=0)\n",
    "            for i in range(1,len(pedArray)):\n",
    "                file2 = pedArray[i]\n",
    "                file2_df = pd.read_csv(f'{pedArray[i].path}{pedArray[i].name}',comment='#',index_col=0)\n",
    "                print('   Using...',file2.name,'...')\n",
    "                diff = findMean(findFracDiff(file1,file2))\n",
    "                result = file1_df.mask((file1_df.isna()) & ((file1_df.isna()) ^ (file2_df.isna())),file2_df.mul(diff,axis=1))\n",
    "        else:\n",
    "            print('File:',file1.name)\n",
    "            file1_df = pd.read_csv(f'{file1.path}{file1.name}',comment='#',index_col=0)\n",
    "            file2 = pedArray[0]\n",
    "            file2_df = output[0][1]\n",
    "            print('   Using...',file2.name,'...')\n",
    "            diff = findMean(findFracDiff(file1,file2))\n",
    "            result = file1_df.mask((file1_df.isna()) & ((file1_df.isna()) ^ (file2_df.isna())),file2_df.mul(diff,axis=1))\n",
    "        output.append([file1.name,result])\n",
    "    print('Done!')\n",
    "    print()\n",
    "    return output\n"
   ]
  },
  {
   "cell_type": "code",
   "execution_count": 403,
   "metadata": {},
   "outputs": [],
   "source": [
    "missingDet = pd.DataFrame(index=detID_index, columns=['PEDESTAL_ADC','PEDESTAL_RMS_ADC'])\n",
    "missingDet = ~missingDet.isna()\n",
    "missingHist = pd.DataFrame(index=detID_index, columns=['PEDESTAL_ADC','PEDESTAL_RMS_ADC'],dtype=np.int64)\n",
    "missingHist[:] = 0\n",
    "missingPlt = pd.DataFrame(index=detID_index,dtype=np.int64)\n",
    "missingPlt[:] = 0\n",
    "fullPedestal = pd.DataFrame(index=detID_index, columns=['PEDESTAL_ADC','PEDESTAL_RMS_ADC'])\n",
    "\n",
    "# Note: Skipping ped0422 because it does not follow the same naming conventions in the csv file as the others\n",
    "# Note: Should also skip ped0416, as the first half is identical to ped0415\n",
    "# 15, 16, and 17; 19 and 21; 23 and 24_07.\n",
    "count = 0\n",
    "for x in fileArray:\n",
    "    if (count > 5) | (count < 5):\n",
    "        currentFile = completePedestalFile(x)\n",
    "        fullPedestal = currentFile\n",
    "        newName = addNewPedestalName(x.name)\n",
    "        fullPedestal.to_csv(path_or_buf=f'./{newName}',index_label='DetID',)\n",
    "        currentFile = currentFile.isna()\n",
    "        toAdd = currentFile['PEDESTAL_ADC']*1\n",
    "        toAdd = toAdd.rename(x.name)\n",
    "        toAdd.squeeze()\n",
    "        missingHist = missingHist.add(currentFile['PEDESTAL_ADC']*1,axis=0)\n",
    "        missingPlt = missingPlt.join(toAdd,how='left')\n",
    "        missingDet = (missingDet | currentFile)\n",
    "\n",
    "    count = count + 1"
   ]
  },
  {
   "cell_type": "code",
   "execution_count": 404,
   "metadata": {},
   "outputs": [],
   "source": [
    "ped0415_f = File(folderPath,'pedestals_20220415_full.csv','default')\n",
    "ped0416_f = File(folderPath,'pedestals_20220416_full.csv','default')\n",
    "ped0417_f = File(folderPath,'pedestals_20220417_full.csv','default')\n",
    "ped0419_f = File(folderPath,'pedestals_20220419_full.csv','default')\n",
    "ped0421_f = File(folderPath,'pedestals_20220421_full.csv','default')\n",
    "ped0422_f = File(folderPath,'pedestals_20220422_full.csv','default')\n",
    "ped0423_f = File(folderPath,'pedestals_20220423_full.csv','default')\n",
    "ped0424_07_f = File(folderPath,'pedestals_20220424_07_full.csv','default')\n",
    "ped0424_22_f = File(folderPath,'pedestals_20220424_22_full.csv','default')\n",
    "ped0426_f = File(folderPath,'pedestals_20220426_full.csv','default')"
   ]
  },
  {
   "cell_type": "code",
   "execution_count": 473,
   "metadata": {},
   "outputs": [
    {
     "name": "stdout",
     "output_type": "stream",
     "text": [
      "Replacing Data...\n",
      "File: pedestals_20220415_full.csv\n"
     ]
    },
    {
     "ename": "FileNotFoundError",
     "evalue": "[Errno 2] No such file or directory: './pedestals_20220415_full.csv'",
     "output_type": "error",
     "traceback": [
      "\u001b[0;31m---------------------------------------------------------------------------\u001b[0m",
      "\u001b[0;31mFileNotFoundError\u001b[0m                         Traceback (most recent call last)",
      "\u001b[1;32m/home/cfroemming/ldmx/conditions-data/Hcal/testbeam04-2022/pedestals/testbeam22_missing_pedestals.ipynb Cell 11'\u001b[0m in \u001b[0;36m<cell line: 1>\u001b[0;34m()\u001b[0m\n\u001b[0;32m----> <a href='vscode-notebook-cell://wsl%2Bubuntu/home/cfroemming/ldmx/conditions-data/Hcal/testbeam04-2022/pedestals/testbeam22_missing_pedestals.ipynb#ch0000018vscode-remote?line=0'>1</a>\u001b[0m sect1 \u001b[39m=\u001b[39m replaceData([ped0415_f,ped0417_f,ped0426_f])\n\u001b[1;32m      <a href='vscode-notebook-cell://wsl%2Bubuntu/home/cfroemming/ldmx/conditions-data/Hcal/testbeam04-2022/pedestals/testbeam22_missing_pedestals.ipynb#ch0000018vscode-remote?line=1'>2</a>\u001b[0m sect2 \u001b[39m=\u001b[39m replaceData([ped0419_f,ped0421_f,ped0426_f])\n\u001b[1;32m      <a href='vscode-notebook-cell://wsl%2Bubuntu/home/cfroemming/ldmx/conditions-data/Hcal/testbeam04-2022/pedestals/testbeam22_missing_pedestals.ipynb#ch0000018vscode-remote?line=2'>3</a>\u001b[0m sect3 \u001b[39m=\u001b[39m replaceData([ped0423_f,ped0424_07_f,ped0426_f])\n",
      "\u001b[1;32m/home/cfroemming/ldmx/conditions-data/Hcal/testbeam04-2022/pedestals/testbeam22_missing_pedestals.ipynb Cell 8'\u001b[0m in \u001b[0;36mreplaceData\u001b[0;34m(pedArray)\u001b[0m\n\u001b[1;32m     <a href='vscode-notebook-cell://wsl%2Bubuntu/home/cfroemming/ldmx/conditions-data/Hcal/testbeam04-2022/pedestals/testbeam22_missing_pedestals.ipynb#ch0000007vscode-remote?line=43'>44</a>\u001b[0m \u001b[39mif\u001b[39;00m file1 \u001b[39m==\u001b[39m pedArray[\u001b[39m0\u001b[39m]:\n\u001b[1;32m     <a href='vscode-notebook-cell://wsl%2Bubuntu/home/cfroemming/ldmx/conditions-data/Hcal/testbeam04-2022/pedestals/testbeam22_missing_pedestals.ipynb#ch0000007vscode-remote?line=44'>45</a>\u001b[0m     \u001b[39mprint\u001b[39m(\u001b[39m'\u001b[39m\u001b[39mFile:\u001b[39m\u001b[39m'\u001b[39m,file1\u001b[39m.\u001b[39mname,)\n\u001b[0;32m---> <a href='vscode-notebook-cell://wsl%2Bubuntu/home/cfroemming/ldmx/conditions-data/Hcal/testbeam04-2022/pedestals/testbeam22_missing_pedestals.ipynb#ch0000007vscode-remote?line=45'>46</a>\u001b[0m     file1_df \u001b[39m=\u001b[39m pd\u001b[39m.\u001b[39;49mread_csv(\u001b[39mf\u001b[39;49m\u001b[39m'\u001b[39;49m\u001b[39m{\u001b[39;49;00mfile1\u001b[39m.\u001b[39;49mpath\u001b[39m}\u001b[39;49;00m\u001b[39m{\u001b[39;49;00mfile1\u001b[39m.\u001b[39;49mname\u001b[39m}\u001b[39;49;00m\u001b[39m'\u001b[39;49m,comment\u001b[39m=\u001b[39;49m\u001b[39m'\u001b[39;49m\u001b[39m#\u001b[39;49m\u001b[39m'\u001b[39;49m,index_col\u001b[39m=\u001b[39;49m\u001b[39m0\u001b[39;49m)\n\u001b[1;32m     <a href='vscode-notebook-cell://wsl%2Bubuntu/home/cfroemming/ldmx/conditions-data/Hcal/testbeam04-2022/pedestals/testbeam22_missing_pedestals.ipynb#ch0000007vscode-remote?line=46'>47</a>\u001b[0m     \u001b[39mfor\u001b[39;00m i \u001b[39min\u001b[39;00m \u001b[39mrange\u001b[39m(\u001b[39m1\u001b[39m,\u001b[39mlen\u001b[39m(pedArray)):\n\u001b[1;32m     <a href='vscode-notebook-cell://wsl%2Bubuntu/home/cfroemming/ldmx/conditions-data/Hcal/testbeam04-2022/pedestals/testbeam22_missing_pedestals.ipynb#ch0000007vscode-remote?line=47'>48</a>\u001b[0m         file2 \u001b[39m=\u001b[39m pedArray[i]\n",
      "File \u001b[0;32m~/.local/lib/python3.8/site-packages/pandas/util/_decorators.py:311\u001b[0m, in \u001b[0;36mdeprecate_nonkeyword_arguments.<locals>.decorate.<locals>.wrapper\u001b[0;34m(*args, **kwargs)\u001b[0m\n\u001b[1;32m    <a href='file:///home/cfroemming/.local/lib/python3.8/site-packages/pandas/util/_decorators.py?line=304'>305</a>\u001b[0m \u001b[39mif\u001b[39;00m \u001b[39mlen\u001b[39m(args) \u001b[39m>\u001b[39m num_allow_args:\n\u001b[1;32m    <a href='file:///home/cfroemming/.local/lib/python3.8/site-packages/pandas/util/_decorators.py?line=305'>306</a>\u001b[0m     warnings\u001b[39m.\u001b[39mwarn(\n\u001b[1;32m    <a href='file:///home/cfroemming/.local/lib/python3.8/site-packages/pandas/util/_decorators.py?line=306'>307</a>\u001b[0m         msg\u001b[39m.\u001b[39mformat(arguments\u001b[39m=\u001b[39marguments),\n\u001b[1;32m    <a href='file:///home/cfroemming/.local/lib/python3.8/site-packages/pandas/util/_decorators.py?line=307'>308</a>\u001b[0m         \u001b[39mFutureWarning\u001b[39;00m,\n\u001b[1;32m    <a href='file:///home/cfroemming/.local/lib/python3.8/site-packages/pandas/util/_decorators.py?line=308'>309</a>\u001b[0m         stacklevel\u001b[39m=\u001b[39mstacklevel,\n\u001b[1;32m    <a href='file:///home/cfroemming/.local/lib/python3.8/site-packages/pandas/util/_decorators.py?line=309'>310</a>\u001b[0m     )\n\u001b[0;32m--> <a href='file:///home/cfroemming/.local/lib/python3.8/site-packages/pandas/util/_decorators.py?line=310'>311</a>\u001b[0m \u001b[39mreturn\u001b[39;00m func(\u001b[39m*\u001b[39;49margs, \u001b[39m*\u001b[39;49m\u001b[39m*\u001b[39;49mkwargs)\n",
      "File \u001b[0;32m~/.local/lib/python3.8/site-packages/pandas/io/parsers/readers.py:680\u001b[0m, in \u001b[0;36mread_csv\u001b[0;34m(filepath_or_buffer, sep, delimiter, header, names, index_col, usecols, squeeze, prefix, mangle_dupe_cols, dtype, engine, converters, true_values, false_values, skipinitialspace, skiprows, skipfooter, nrows, na_values, keep_default_na, na_filter, verbose, skip_blank_lines, parse_dates, infer_datetime_format, keep_date_col, date_parser, dayfirst, cache_dates, iterator, chunksize, compression, thousands, decimal, lineterminator, quotechar, quoting, doublequote, escapechar, comment, encoding, encoding_errors, dialect, error_bad_lines, warn_bad_lines, on_bad_lines, delim_whitespace, low_memory, memory_map, float_precision, storage_options)\u001b[0m\n\u001b[1;32m    <a href='file:///home/cfroemming/.local/lib/python3.8/site-packages/pandas/io/parsers/readers.py?line=664'>665</a>\u001b[0m kwds_defaults \u001b[39m=\u001b[39m _refine_defaults_read(\n\u001b[1;32m    <a href='file:///home/cfroemming/.local/lib/python3.8/site-packages/pandas/io/parsers/readers.py?line=665'>666</a>\u001b[0m     dialect,\n\u001b[1;32m    <a href='file:///home/cfroemming/.local/lib/python3.8/site-packages/pandas/io/parsers/readers.py?line=666'>667</a>\u001b[0m     delimiter,\n\u001b[0;32m   (...)\u001b[0m\n\u001b[1;32m    <a href='file:///home/cfroemming/.local/lib/python3.8/site-packages/pandas/io/parsers/readers.py?line=675'>676</a>\u001b[0m     defaults\u001b[39m=\u001b[39m{\u001b[39m\"\u001b[39m\u001b[39mdelimiter\u001b[39m\u001b[39m\"\u001b[39m: \u001b[39m\"\u001b[39m\u001b[39m,\u001b[39m\u001b[39m\"\u001b[39m},\n\u001b[1;32m    <a href='file:///home/cfroemming/.local/lib/python3.8/site-packages/pandas/io/parsers/readers.py?line=676'>677</a>\u001b[0m )\n\u001b[1;32m    <a href='file:///home/cfroemming/.local/lib/python3.8/site-packages/pandas/io/parsers/readers.py?line=677'>678</a>\u001b[0m kwds\u001b[39m.\u001b[39mupdate(kwds_defaults)\n\u001b[0;32m--> <a href='file:///home/cfroemming/.local/lib/python3.8/site-packages/pandas/io/parsers/readers.py?line=679'>680</a>\u001b[0m \u001b[39mreturn\u001b[39;00m _read(filepath_or_buffer, kwds)\n",
      "File \u001b[0;32m~/.local/lib/python3.8/site-packages/pandas/io/parsers/readers.py:575\u001b[0m, in \u001b[0;36m_read\u001b[0;34m(filepath_or_buffer, kwds)\u001b[0m\n\u001b[1;32m    <a href='file:///home/cfroemming/.local/lib/python3.8/site-packages/pandas/io/parsers/readers.py?line=571'>572</a>\u001b[0m _validate_names(kwds\u001b[39m.\u001b[39mget(\u001b[39m\"\u001b[39m\u001b[39mnames\u001b[39m\u001b[39m\"\u001b[39m, \u001b[39mNone\u001b[39;00m))\n\u001b[1;32m    <a href='file:///home/cfroemming/.local/lib/python3.8/site-packages/pandas/io/parsers/readers.py?line=573'>574</a>\u001b[0m \u001b[39m# Create the parser.\u001b[39;00m\n\u001b[0;32m--> <a href='file:///home/cfroemming/.local/lib/python3.8/site-packages/pandas/io/parsers/readers.py?line=574'>575</a>\u001b[0m parser \u001b[39m=\u001b[39m TextFileReader(filepath_or_buffer, \u001b[39m*\u001b[39;49m\u001b[39m*\u001b[39;49mkwds)\n\u001b[1;32m    <a href='file:///home/cfroemming/.local/lib/python3.8/site-packages/pandas/io/parsers/readers.py?line=576'>577</a>\u001b[0m \u001b[39mif\u001b[39;00m chunksize \u001b[39mor\u001b[39;00m iterator:\n\u001b[1;32m    <a href='file:///home/cfroemming/.local/lib/python3.8/site-packages/pandas/io/parsers/readers.py?line=577'>578</a>\u001b[0m     \u001b[39mreturn\u001b[39;00m parser\n",
      "File \u001b[0;32m~/.local/lib/python3.8/site-packages/pandas/io/parsers/readers.py:933\u001b[0m, in \u001b[0;36mTextFileReader.__init__\u001b[0;34m(self, f, engine, **kwds)\u001b[0m\n\u001b[1;32m    <a href='file:///home/cfroemming/.local/lib/python3.8/site-packages/pandas/io/parsers/readers.py?line=929'>930</a>\u001b[0m     \u001b[39mself\u001b[39m\u001b[39m.\u001b[39moptions[\u001b[39m\"\u001b[39m\u001b[39mhas_index_names\u001b[39m\u001b[39m\"\u001b[39m] \u001b[39m=\u001b[39m kwds[\u001b[39m\"\u001b[39m\u001b[39mhas_index_names\u001b[39m\u001b[39m\"\u001b[39m]\n\u001b[1;32m    <a href='file:///home/cfroemming/.local/lib/python3.8/site-packages/pandas/io/parsers/readers.py?line=931'>932</a>\u001b[0m \u001b[39mself\u001b[39m\u001b[39m.\u001b[39mhandles: IOHandles \u001b[39m|\u001b[39m \u001b[39mNone\u001b[39;00m \u001b[39m=\u001b[39m \u001b[39mNone\u001b[39;00m\n\u001b[0;32m--> <a href='file:///home/cfroemming/.local/lib/python3.8/site-packages/pandas/io/parsers/readers.py?line=932'>933</a>\u001b[0m \u001b[39mself\u001b[39m\u001b[39m.\u001b[39m_engine \u001b[39m=\u001b[39m \u001b[39mself\u001b[39;49m\u001b[39m.\u001b[39;49m_make_engine(f, \u001b[39mself\u001b[39;49m\u001b[39m.\u001b[39;49mengine)\n",
      "File \u001b[0;32m~/.local/lib/python3.8/site-packages/pandas/io/parsers/readers.py:1217\u001b[0m, in \u001b[0;36mTextFileReader._make_engine\u001b[0;34m(self, f, engine)\u001b[0m\n\u001b[1;32m   <a href='file:///home/cfroemming/.local/lib/python3.8/site-packages/pandas/io/parsers/readers.py?line=1212'>1213</a>\u001b[0m     mode \u001b[39m=\u001b[39m \u001b[39m\"\u001b[39m\u001b[39mrb\u001b[39m\u001b[39m\"\u001b[39m\n\u001b[1;32m   <a href='file:///home/cfroemming/.local/lib/python3.8/site-packages/pandas/io/parsers/readers.py?line=1213'>1214</a>\u001b[0m \u001b[39m# error: No overload variant of \"get_handle\" matches argument types\u001b[39;00m\n\u001b[1;32m   <a href='file:///home/cfroemming/.local/lib/python3.8/site-packages/pandas/io/parsers/readers.py?line=1214'>1215</a>\u001b[0m \u001b[39m# \"Union[str, PathLike[str], ReadCsvBuffer[bytes], ReadCsvBuffer[str]]\"\u001b[39;00m\n\u001b[1;32m   <a href='file:///home/cfroemming/.local/lib/python3.8/site-packages/pandas/io/parsers/readers.py?line=1215'>1216</a>\u001b[0m \u001b[39m# , \"str\", \"bool\", \"Any\", \"Any\", \"Any\", \"Any\", \"Any\"\u001b[39;00m\n\u001b[0;32m-> <a href='file:///home/cfroemming/.local/lib/python3.8/site-packages/pandas/io/parsers/readers.py?line=1216'>1217</a>\u001b[0m \u001b[39mself\u001b[39m\u001b[39m.\u001b[39mhandles \u001b[39m=\u001b[39m get_handle(  \u001b[39m# type: ignore[call-overload]\u001b[39;49;00m\n\u001b[1;32m   <a href='file:///home/cfroemming/.local/lib/python3.8/site-packages/pandas/io/parsers/readers.py?line=1217'>1218</a>\u001b[0m     f,\n\u001b[1;32m   <a href='file:///home/cfroemming/.local/lib/python3.8/site-packages/pandas/io/parsers/readers.py?line=1218'>1219</a>\u001b[0m     mode,\n\u001b[1;32m   <a href='file:///home/cfroemming/.local/lib/python3.8/site-packages/pandas/io/parsers/readers.py?line=1219'>1220</a>\u001b[0m     encoding\u001b[39m=\u001b[39;49m\u001b[39mself\u001b[39;49m\u001b[39m.\u001b[39;49moptions\u001b[39m.\u001b[39;49mget(\u001b[39m\"\u001b[39;49m\u001b[39mencoding\u001b[39;49m\u001b[39m\"\u001b[39;49m, \u001b[39mNone\u001b[39;49;00m),\n\u001b[1;32m   <a href='file:///home/cfroemming/.local/lib/python3.8/site-packages/pandas/io/parsers/readers.py?line=1220'>1221</a>\u001b[0m     compression\u001b[39m=\u001b[39;49m\u001b[39mself\u001b[39;49m\u001b[39m.\u001b[39;49moptions\u001b[39m.\u001b[39;49mget(\u001b[39m\"\u001b[39;49m\u001b[39mcompression\u001b[39;49m\u001b[39m\"\u001b[39;49m, \u001b[39mNone\u001b[39;49;00m),\n\u001b[1;32m   <a href='file:///home/cfroemming/.local/lib/python3.8/site-packages/pandas/io/parsers/readers.py?line=1221'>1222</a>\u001b[0m     memory_map\u001b[39m=\u001b[39;49m\u001b[39mself\u001b[39;49m\u001b[39m.\u001b[39;49moptions\u001b[39m.\u001b[39;49mget(\u001b[39m\"\u001b[39;49m\u001b[39mmemory_map\u001b[39;49m\u001b[39m\"\u001b[39;49m, \u001b[39mFalse\u001b[39;49;00m),\n\u001b[1;32m   <a href='file:///home/cfroemming/.local/lib/python3.8/site-packages/pandas/io/parsers/readers.py?line=1222'>1223</a>\u001b[0m     is_text\u001b[39m=\u001b[39;49mis_text,\n\u001b[1;32m   <a href='file:///home/cfroemming/.local/lib/python3.8/site-packages/pandas/io/parsers/readers.py?line=1223'>1224</a>\u001b[0m     errors\u001b[39m=\u001b[39;49m\u001b[39mself\u001b[39;49m\u001b[39m.\u001b[39;49moptions\u001b[39m.\u001b[39;49mget(\u001b[39m\"\u001b[39;49m\u001b[39mencoding_errors\u001b[39;49m\u001b[39m\"\u001b[39;49m, \u001b[39m\"\u001b[39;49m\u001b[39mstrict\u001b[39;49m\u001b[39m\"\u001b[39;49m),\n\u001b[1;32m   <a href='file:///home/cfroemming/.local/lib/python3.8/site-packages/pandas/io/parsers/readers.py?line=1224'>1225</a>\u001b[0m     storage_options\u001b[39m=\u001b[39;49m\u001b[39mself\u001b[39;49m\u001b[39m.\u001b[39;49moptions\u001b[39m.\u001b[39;49mget(\u001b[39m\"\u001b[39;49m\u001b[39mstorage_options\u001b[39;49m\u001b[39m\"\u001b[39;49m, \u001b[39mNone\u001b[39;49;00m),\n\u001b[1;32m   <a href='file:///home/cfroemming/.local/lib/python3.8/site-packages/pandas/io/parsers/readers.py?line=1225'>1226</a>\u001b[0m )\n\u001b[1;32m   <a href='file:///home/cfroemming/.local/lib/python3.8/site-packages/pandas/io/parsers/readers.py?line=1226'>1227</a>\u001b[0m \u001b[39massert\u001b[39;00m \u001b[39mself\u001b[39m\u001b[39m.\u001b[39mhandles \u001b[39mis\u001b[39;00m \u001b[39mnot\u001b[39;00m \u001b[39mNone\u001b[39;00m\n\u001b[1;32m   <a href='file:///home/cfroemming/.local/lib/python3.8/site-packages/pandas/io/parsers/readers.py?line=1227'>1228</a>\u001b[0m f \u001b[39m=\u001b[39m \u001b[39mself\u001b[39m\u001b[39m.\u001b[39mhandles\u001b[39m.\u001b[39mhandle\n",
      "File \u001b[0;32m~/.local/lib/python3.8/site-packages/pandas/io/common.py:789\u001b[0m, in \u001b[0;36mget_handle\u001b[0;34m(path_or_buf, mode, encoding, compression, memory_map, is_text, errors, storage_options)\u001b[0m\n\u001b[1;32m    <a href='file:///home/cfroemming/.local/lib/python3.8/site-packages/pandas/io/common.py?line=783'>784</a>\u001b[0m \u001b[39melif\u001b[39;00m \u001b[39misinstance\u001b[39m(handle, \u001b[39mstr\u001b[39m):\n\u001b[1;32m    <a href='file:///home/cfroemming/.local/lib/python3.8/site-packages/pandas/io/common.py?line=784'>785</a>\u001b[0m     \u001b[39m# Check whether the filename is to be opened in binary mode.\u001b[39;00m\n\u001b[1;32m    <a href='file:///home/cfroemming/.local/lib/python3.8/site-packages/pandas/io/common.py?line=785'>786</a>\u001b[0m     \u001b[39m# Binary mode does not support 'encoding' and 'newline'.\u001b[39;00m\n\u001b[1;32m    <a href='file:///home/cfroemming/.local/lib/python3.8/site-packages/pandas/io/common.py?line=786'>787</a>\u001b[0m     \u001b[39mif\u001b[39;00m ioargs\u001b[39m.\u001b[39mencoding \u001b[39mand\u001b[39;00m \u001b[39m\"\u001b[39m\u001b[39mb\u001b[39m\u001b[39m\"\u001b[39m \u001b[39mnot\u001b[39;00m \u001b[39min\u001b[39;00m ioargs\u001b[39m.\u001b[39mmode:\n\u001b[1;32m    <a href='file:///home/cfroemming/.local/lib/python3.8/site-packages/pandas/io/common.py?line=787'>788</a>\u001b[0m         \u001b[39m# Encoding\u001b[39;00m\n\u001b[0;32m--> <a href='file:///home/cfroemming/.local/lib/python3.8/site-packages/pandas/io/common.py?line=788'>789</a>\u001b[0m         handle \u001b[39m=\u001b[39m \u001b[39mopen\u001b[39;49m(\n\u001b[1;32m    <a href='file:///home/cfroemming/.local/lib/python3.8/site-packages/pandas/io/common.py?line=789'>790</a>\u001b[0m             handle,\n\u001b[1;32m    <a href='file:///home/cfroemming/.local/lib/python3.8/site-packages/pandas/io/common.py?line=790'>791</a>\u001b[0m             ioargs\u001b[39m.\u001b[39;49mmode,\n\u001b[1;32m    <a href='file:///home/cfroemming/.local/lib/python3.8/site-packages/pandas/io/common.py?line=791'>792</a>\u001b[0m             encoding\u001b[39m=\u001b[39;49mioargs\u001b[39m.\u001b[39;49mencoding,\n\u001b[1;32m    <a href='file:///home/cfroemming/.local/lib/python3.8/site-packages/pandas/io/common.py?line=792'>793</a>\u001b[0m             errors\u001b[39m=\u001b[39;49merrors,\n\u001b[1;32m    <a href='file:///home/cfroemming/.local/lib/python3.8/site-packages/pandas/io/common.py?line=793'>794</a>\u001b[0m             newline\u001b[39m=\u001b[39;49m\u001b[39m\"\u001b[39;49m\u001b[39m\"\u001b[39;49m,\n\u001b[1;32m    <a href='file:///home/cfroemming/.local/lib/python3.8/site-packages/pandas/io/common.py?line=794'>795</a>\u001b[0m         )\n\u001b[1;32m    <a href='file:///home/cfroemming/.local/lib/python3.8/site-packages/pandas/io/common.py?line=795'>796</a>\u001b[0m     \u001b[39melse\u001b[39;00m:\n\u001b[1;32m    <a href='file:///home/cfroemming/.local/lib/python3.8/site-packages/pandas/io/common.py?line=796'>797</a>\u001b[0m         \u001b[39m# Binary mode\u001b[39;00m\n\u001b[1;32m    <a href='file:///home/cfroemming/.local/lib/python3.8/site-packages/pandas/io/common.py?line=797'>798</a>\u001b[0m         handle \u001b[39m=\u001b[39m \u001b[39mopen\u001b[39m(handle, ioargs\u001b[39m.\u001b[39mmode)\n",
      "\u001b[0;31mFileNotFoundError\u001b[0m: [Errno 2] No such file or directory: './pedestals_20220415_full.csv'"
     ]
    }
   ],
   "source": [
    "sect1 = replaceData([ped0415_f,ped0417_f,ped0426_f])\n",
    "sect2 = replaceData([ped0419_f,ped0421_f,ped0426_f])\n",
    "sect3 = replaceData([ped0423_f,ped0424_07_f,ped0426_f])\n",
    "allPeds = [sect1[0],sect1[1],sect2[0],sect2[1],sect3[0],sect3[1],sect3[2]]\n",
    "for ped in range(0,len(allPeds)):\n",
    "    allPeds[ped][1].to_csv(path_or_buf=f'./{allPeds[ped][0]}',float_format='%.3f')\n"
   ]
  },
  {
   "cell_type": "markdown",
   "metadata": {},
   "source": [
    "### Visual Representation of Missing Channels\n",
    "<i>FIXME: write a description. </i>"
   ]
  },
  {
   "cell_type": "code",
   "execution_count": 474,
   "metadata": {},
   "outputs": [
    {
     "data": {
      "image/png": "[encoded data removed]",
      "text/plain": [
       "<Figure size 144x144 with 1 Axes>"
      ]
     },
     "metadata": {},
     "output_type": "display_data"
    }
   ],
   "source": [
    "plt.style.use('ggplot')\n",
    "fig1,plot1 = plt.subplots()\n",
    "X = missingPlt.columns\n",
    "Y = missingPlt.iloc[0]\n",
    "\n",
    "for det in missingPlt.index:\n",
    "    Y = missingPlt.loc[det]\n",
    "    plot1.plot(X,Y,label=det,linestyle='-.',linewidth=0.25)\n",
    "for tick in plot1.get_xticklabels():\n",
    "    tick.set_rotation(90)\n",
    "fig1.align_labels()"
   ]
  },
  {
   "cell_type": "code",
   "execution_count": 475,
   "metadata": {},
   "outputs": [
    {
     "data": {
      "image/png": "[encoded data removed]",
      "text/plain": [
       "<Figure size 144x144 with 1 Axes>"
      ]
     },
     "metadata": {},
     "output_type": "display_data"
    }
   ],
   "source": [
    "missingDet[(missingDet['PEDESTAL_ADC'] == True)]\n",
    "output = missingHist[(missingHist['PEDESTAL_ADC'] != 0)]\n",
    "\n",
    "fig = plt.figure()\n",
    "HB = fig.add_axes([0,0,1,1])\n",
    "HB.bar(x=output.index,height=output['PEDESTAL_ADC'],tick_label='')\n",
    "HB.set_title('Missing Channels by Frequency')\n",
    "HB.set_ylabel('Occurances')\n",
    "HB.set_xlabel('Channel')\n",
    "numCh = missingDet[(missingDet['PEDESTAL_ADC'] == True)].shape\n",
    "HB.annotate(f'{numCh[0]} unique missing channels',(0,7))\n",
    "plt.show()\n"
   ]
  },
  {
   "cell_type": "markdown",
   "metadata": {},
   "source": [
    "### Garbage Can:\n",
    "This is for personal reference of some commands that I found useful, but is not currently used. These probably aren't useful to you."
   ]
  },
  {
   "cell_type": "code",
   "execution_count": 476,
   "metadata": {},
   "outputs": [],
   "source": [
    "# Renaming Column Labels\n",
    "# data = initialFile.reindex(detID_index)\n",
    "# data = data.rename(columns={'PEDESTAL_ADC':'ADC','PEDESTAL_RMS_ADC':'RMS'})\n",
    "# newData = newFile.reindex(detID_index)\n",
    "# newData = newData.rename(columns={'PEDESTAL_ADC':'ADC','PEDESTAL_RMS_ADC':'RMS'})\n",
    "\n",
    "\n",
    "# Boolean testing\n",
    "# data1 = data.isna()\n",
    "# data2 = newData.isna()\n",
    "# data3 = (data1 | data2)\n",
    "# dataLast = newData.loc[(data3.ADC == True)]\n",
    "# dataLast.shape\n",
    "# data1.loc['0x18881107']\n",
    "# data2.loc['0x18881107']\n",
    "\n",
    "\n",
    "# Number of channels test\n",
    "# test = newData.iloc[380,1]\n",
    "# count = 0\n",
    "#\n",
    "# for x in range(0,384):\n",
    "#     val = newData.iloc[x,0]\n",
    "#     if np.isnan(val):\n",
    "#         count = count + 1\n",
    "# print('Number of Missing Channels:',count)"
   ]
  }
 ],
 "metadata": {
  "interpreter": {
   "hash": "916dbcbb3f70747c44a77c7bcd40155683ae19c65e1c03b4aa3499c5328201f1"
  },
  "kernelspec": {
   "display_name": "Python 3.8.10 64-bit",
   "language": "python",
   "name": "python3"
  },
  "language_info": {
   "codemirror_mode": {
    "name": "ipython",
    "version": 3
   },
   "file_extension": ".py",
   "mimetype": "text/x-python",
   "name": "python",
   "nbconvert_exporter": "python",
   "pygments_lexer": "ipython3",
   "version": "3.8.10"
  },
  "orig_nbformat": 4
 },
 "nbformat": 4,
 "nbformat_minor": 2
}
